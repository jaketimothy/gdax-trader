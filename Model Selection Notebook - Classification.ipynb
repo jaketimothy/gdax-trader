{
 "cells": [
  {
   "cell_type": "code",
   "execution_count": 1,
   "metadata": {
    "collapsed": false
   },
   "outputs": [
    {
     "name": "stdout",
     "output_type": "stream",
     "text": [
      "0.18.2\n"
     ]
    },
    {
     "name": "stderr",
     "output_type": "stream",
     "text": [
      "classification_rolling.py:30: SettingWithCopyWarning: \n",
      "A value is trying to be set on a copy of a slice from a DataFrame.\n",
      "Try using .loc[row_indexer,col_indexer] = value instead\n",
      "\n",
      "See the caveats in the documentation: http://pandas.pydata.org/pandas-docs/stable/indexing.html#indexing-view-versus-copy\n",
      "  X['norm close 143 d'] = df['norm close 143'] - df['norm close 142']\n",
      "classification_rolling.py:33: SettingWithCopyWarning: \n",
      "A value is trying to be set on a copy of a slice from a DataFrame.\n",
      "Try using .loc[row_indexer,col_indexer] = value instead\n",
      "\n",
      "See the caveats in the documentation: http://pandas.pydata.org/pandas-docs/stable/indexing.html#indexing-view-versus-copy\n",
      "  (df['norm close 142'] - df['norm close 141']))\n",
      "classification_rolling.py:35: SettingWithCopyWarning: \n",
      "A value is trying to be set on a copy of a slice from a DataFrame.\n",
      "Try using .loc[row_indexer,col_indexer] = value instead\n",
      "\n",
      "See the caveats in the documentation: http://pandas.pydata.org/pandas-docs/stable/indexing.html#indexing-view-versus-copy\n",
      "  X['norm volume 143 d'] = df['norm volume 143'] - df['norm volume 142']\n",
      "classification_rolling.py:38: SettingWithCopyWarning: \n",
      "A value is trying to be set on a copy of a slice from a DataFrame.\n",
      "Try using .loc[row_indexer,col_indexer] = value instead\n",
      "\n",
      "See the caveats in the documentation: http://pandas.pydata.org/pandas-docs/stable/indexing.html#indexing-view-versus-copy\n",
      "  (df['norm volume 142'] - df['norm volume 141']))\n"
     ]
    },
    {
     "name": "stdout",
     "output_type": "stream",
     "text": [
      "(41891, 7)\n",
      "fit sgd_hinge: 0.067906\n",
      "fit sgd_log: 0.076173\n",
      "fit sgd_huber: 0.065429\n",
      "fit sgd_perceptron: 0.062153\n",
      "fit etc: 0.603146\n",
      "fit gbc: 9.325790\n",
      "(7751, 7)\n",
      "predict sgd_hinge: 0.000608\n",
      "predict sgd_log: 0.000290\n",
      "predict sgd_huber: 0.000262\n",
      "predict sgd_perceptron: 0.000264\n",
      "predict etc: 0.108317\n",
      "predict gbc: 0.022622\n",
      "\n",
      "SGD (hinge) 0.5256\n",
      "[[1489 2160]\n",
      " [1517 2585]]\n",
      "\n",
      "SGD (log) 0.5259\n",
      "[[1500 2149]\n",
      " [1526 2576]]\n",
      "\n",
      "SGD (huber) 0.5198\n",
      "[[1569 2080]\n",
      " [1642 2460]]\n",
      "\n",
      "SGD (perceptron) 0.5233\n",
      "[[1459 2190]\n",
      " [1505 2597]]\n",
      "\n",
      "ETC 0.4989\n",
      "[[2630 1019]\n",
      " [2865 1237]]\n",
      "\n",
      "GBC 0.4931\n",
      "[[2624 1025]\n",
      " [2904 1198]]\n"
     ]
    }
   ],
   "source": [
    "%matplotlib inline\n",
    "import classification_rolling\n",
    "\n",
    "classification_rolling.run(column_set='pid', scale=True)"
   ]
  },
  {
   "cell_type": "code",
   "execution_count": 2,
   "metadata": {
    "collapsed": false
   },
   "outputs": [
    {
     "name": "stdout",
     "output_type": "stream",
     "text": [
      "0.18.2\n",
      "(41891, 289)\n",
      "fit sgd_hinge: 0.467616\n",
      "fit sgd_log: 0.561115\n",
      "fit sgd_huber: 0.463783\n",
      "fit sgd_perceptron: 0.505845\n",
      "fit etc: 2.255020\n",
      "fit gbc: 276.908660\n",
      "(7751, 289)\n",
      "predict sgd_hinge: 0.007108\n",
      "predict sgd_log: 0.007046\n",
      "predict sgd_huber: 0.010945\n",
      "predict sgd_perceptron: 0.006816\n",
      "predict etc: 0.138025\n",
      "predict gbc: 0.100794\n",
      "\n",
      "SGD (hinge) 0.5122\n",
      "[[1200 2449]\n",
      " [1332 2770]]\n",
      "\n",
      "SGD (log) 0.5074\n",
      "[[1231 2418]\n",
      " [1400 2702]]\n",
      "\n",
      "SGD (huber) 0.5019\n",
      "[[1302 2347]\n",
      " [1514 2588]]\n",
      "\n",
      "SGD (perceptron) 0.5086\n",
      "[[1319 2330]\n",
      " [1479 2623]]\n",
      "\n",
      "ETC 0.4887\n",
      "[[2601 1048]\n",
      " [2915 1187]]\n",
      "\n",
      "GBC 0.5064\n",
      "[[2561 1088]\n",
      " [2738 1364]]\n"
     ]
    }
   ],
   "source": [
    "%matplotlib inline\n",
    "import classification_rolling\n",
    "\n",
    "classification_rolling.run(column_set='raw', scale=True)"
   ]
  },
  {
   "cell_type": "code",
   "execution_count": null,
   "metadata": {
    "collapsed": true
   },
   "outputs": [],
   "source": []
  }
 ],
 "metadata": {
  "kernelspec": {
   "display_name": "Python 2",
   "language": "python",
   "name": "python2"
  },
  "language_info": {
   "codemirror_mode": {
    "name": "ipython",
    "version": 2
   },
   "file_extension": ".py",
   "mimetype": "text/x-python",
   "name": "python",
   "nbconvert_exporter": "python",
   "pygments_lexer": "ipython2",
   "version": "2.7.13"
  },
  "widgets": {
   "state": {},
   "version": "1.1.2"
  }
 },
 "nbformat": 4,
 "nbformat_minor": 0
}
